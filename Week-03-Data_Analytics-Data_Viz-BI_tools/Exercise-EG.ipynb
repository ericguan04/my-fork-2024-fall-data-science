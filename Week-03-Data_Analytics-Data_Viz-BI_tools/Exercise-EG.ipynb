{
 "cells": [
  {
   "cell_type": "code",
   "execution_count": 1,
   "id": "520b6c75-925e-4de5-bd9a-ed6a1f80eeb0",
   "metadata": {
    "tags": []
   },
   "outputs": [],
   "source": [
    "# Import pandas\n",
    "import pandas as pd"
   ]
  },
  {
   "cell_type": "code",
   "execution_count": 2,
   "id": "cc7fa726-c2fd-4cfd-9970-7da5371638be",
   "metadata": {
    "tags": []
   },
   "outputs": [],
   "source": [
    "# Load in the listings data\n",
    "df=pd.read_csv('data/listings.csv')"
   ]
  },
  {
   "cell_type": "markdown",
   "id": "859bfd59-1ab7-4b81-9953-7b88ff7cc1bb",
   "metadata": {},
   "source": [
    "####  Exercise 1: Create a bar chart and dataframe of top 10 Neigborhoods that have the most expensive listsings on average. \n",
    "Our goal is to make a chart reflecting the top 10 most expensive Neighborhoods.\n",
    "This is a little dubious - we assign \"expensive\" by calculating the average cost of \n",
    "an AirBnB in each neighborhood.\n",
    "\n",
    "1. Make a dataframe that sorts the neighborhood field by decending price.  \n",
    "1. Use head to cut back top the top 10\n",
    "1. Use pandas.plot.barh to generate a histogram (see [this](https://pandas.pydata.org/pandas-docs/stable/reference/api/pandas.DataFrame.plot.barh.html) wiki for details on pandas.plot.barh)\n",
    "1. Display the data that you used to create the bar chart as a table with neighborhood and average price as the columns.  You want this to match the pivot that you create in youur dashboard"
   ]
  },
  {
   "cell_type": "code",
   "execution_count": null,
   "id": "52f83939-3f09-40ac-baab-794afa048f92",
   "metadata": {
    "tags": []
   },
   "outputs": [],
   "source": [
    "# our goal is to make a chart reflecting the top 10 most expensive Neighborhoods\n",
    "# This is a little dubious - we assign \"expensive\" by calculating the average cost of \n",
    "# an AirBnB in each neighborhood, then we take the top ten and weight each slice \n",
    "# by the average value.\n",
    "#\n",
    "# make a dataframe that sorts the neighborhood field by decending price.  \n",
    "# Use head to cut back top the top 10. Then, use df.plot.barh to generate a histogram."
   ]
  },
  {
   "cell_type": "code",
   "execution_count": 3,
   "id": "1f4d84f7",
   "metadata": {},
   "outputs": [],
   "source": [
    "neighborhood_mean = df.groupby(\"neighbourhood\")[\"price\"].agg(\"mean\")\n",
    "df_mean = neighborhood_mean.reset_index()\n",
    "df_mean.columns=[\"neighborhood\", \"avg_price\"]"
   ]
  },
  {
   "cell_type": "code",
   "execution_count": 4,
   "id": "eae757f8",
   "metadata": {},
   "outputs": [
    {
     "data": {
      "text/html": [
       "<div>\n",
       "<style scoped>\n",
       "    .dataframe tbody tr th:only-of-type {\n",
       "        vertical-align: middle;\n",
       "    }\n",
       "\n",
       "    .dataframe tbody tr th {\n",
       "        vertical-align: top;\n",
       "    }\n",
       "\n",
       "    .dataframe thead th {\n",
       "        text-align: right;\n",
       "    }\n",
       "</style>\n",
       "<table border=\"1\" class=\"dataframe\">\n",
       "  <thead>\n",
       "    <tr style=\"text-align: right;\">\n",
       "      <th></th>\n",
       "      <th>neighborhood</th>\n",
       "      <th>avg_price</th>\n",
       "    </tr>\n",
       "  </thead>\n",
       "  <tbody>\n",
       "    <tr>\n",
       "      <th>82</th>\n",
       "      <td>Fort Wadsworth</td>\n",
       "      <td>800.000000</td>\n",
       "    </tr>\n",
       "    <tr>\n",
       "      <th>220</th>\n",
       "      <td>Woodrow</td>\n",
       "      <td>700.000000</td>\n",
       "    </tr>\n",
       "    <tr>\n",
       "      <th>175</th>\n",
       "      <td>Sea Gate</td>\n",
       "      <td>418.230769</td>\n",
       "    </tr>\n",
       "    <tr>\n",
       "      <th>198</th>\n",
       "      <td>Tribeca</td>\n",
       "      <td>381.107143</td>\n",
       "    </tr>\n",
       "    <tr>\n",
       "      <th>75</th>\n",
       "      <td>Flatiron District</td>\n",
       "      <td>367.415584</td>\n",
       "    </tr>\n",
       "    <tr>\n",
       "      <th>22</th>\n",
       "      <td>Briarwood</td>\n",
       "      <td>366.162162</td>\n",
       "    </tr>\n",
       "    <tr>\n",
       "      <th>73</th>\n",
       "      <td>Financial District</td>\n",
       "      <td>335.385057</td>\n",
       "    </tr>\n",
       "    <tr>\n",
       "      <th>216</th>\n",
       "      <td>Willowbrook</td>\n",
       "      <td>309.000000</td>\n",
       "    </tr>\n",
       "    <tr>\n",
       "      <th>196</th>\n",
       "      <td>Tottenville</td>\n",
       "      <td>309.000000</td>\n",
       "    </tr>\n",
       "    <tr>\n",
       "      <th>158</th>\n",
       "      <td>Prince's Bay</td>\n",
       "      <td>300.000000</td>\n",
       "    </tr>\n",
       "  </tbody>\n",
       "</table>\n",
       "</div>"
      ],
      "text/plain": [
       "           neighborhood   avg_price\n",
       "82       Fort Wadsworth  800.000000\n",
       "220             Woodrow  700.000000\n",
       "175            Sea Gate  418.230769\n",
       "198             Tribeca  381.107143\n",
       "75    Flatiron District  367.415584\n",
       "22            Briarwood  366.162162\n",
       "73   Financial District  335.385057\n",
       "216         Willowbrook  309.000000\n",
       "196         Tottenville  309.000000\n",
       "158        Prince's Bay  300.000000"
      ]
     },
     "execution_count": 4,
     "metadata": {},
     "output_type": "execute_result"
    }
   ],
   "source": [
    "df_mean_top = df_mean.sort_values(by=\"avg_price\", ascending=False).head(10)\n",
    "df_mean_top"
   ]
  },
  {
   "cell_type": "code",
   "execution_count": 5,
   "id": "dc9ec367",
   "metadata": {},
   "outputs": [
    {
     "data": {
      "text/plain": [
       "<Axes: ylabel='neighborhood'>"
      ]
     },
     "execution_count": 5,
     "metadata": {},
     "output_type": "execute_result"
    },
    {
     "data": {
      "image/png": "[encoded data removed]",
      "text/plain": [
       "<Figure size 640x480 with 1 Axes>"
      ]
     },
     "metadata": {},
     "output_type": "display_data"
    }
   ],
   "source": [
    "df_mean_top.plot(kind=\"barh\", x=\"neighborhood\", y=\"avg_price\")"
   ]
  },
  {
   "cell_type": "code",
   "execution_count": 6,
   "id": "f96404b4-04de-4365-b11c-ceea9ef92468",
   "metadata": {
    "tags": []
   },
   "outputs": [
    {
     "data": {
      "text/html": [
       "<div>\n",
       "<style scoped>\n",
       "    .dataframe tbody tr th:only-of-type {\n",
       "        vertical-align: middle;\n",
       "    }\n",
       "\n",
       "    .dataframe tbody tr th {\n",
       "        vertical-align: top;\n",
       "    }\n",
       "\n",
       "    .dataframe thead th {\n",
       "        text-align: right;\n",
       "    }\n",
       "</style>\n",
       "<table border=\"1\" class=\"dataframe\">\n",
       "  <thead>\n",
       "    <tr style=\"text-align: right;\">\n",
       "      <th></th>\n",
       "      <th>neighbourhood</th>\n",
       "      <th>price</th>\n",
       "    </tr>\n",
       "  </thead>\n",
       "  <tbody>\n",
       "    <tr>\n",
       "      <th>82</th>\n",
       "      <td>Fort Wadsworth</td>\n",
       "      <td>800.000000</td>\n",
       "    </tr>\n",
       "    <tr>\n",
       "      <th>220</th>\n",
       "      <td>Woodrow</td>\n",
       "      <td>700.000000</td>\n",
       "    </tr>\n",
       "    <tr>\n",
       "      <th>175</th>\n",
       "      <td>Sea Gate</td>\n",
       "      <td>418.230769</td>\n",
       "    </tr>\n",
       "    <tr>\n",
       "      <th>198</th>\n",
       "      <td>Tribeca</td>\n",
       "      <td>381.107143</td>\n",
       "    </tr>\n",
       "    <tr>\n",
       "      <th>75</th>\n",
       "      <td>Flatiron District</td>\n",
       "      <td>367.415584</td>\n",
       "    </tr>\n",
       "    <tr>\n",
       "      <th>22</th>\n",
       "      <td>Briarwood</td>\n",
       "      <td>366.162162</td>\n",
       "    </tr>\n",
       "    <tr>\n",
       "      <th>73</th>\n",
       "      <td>Financial District</td>\n",
       "      <td>335.385057</td>\n",
       "    </tr>\n",
       "    <tr>\n",
       "      <th>216</th>\n",
       "      <td>Willowbrook</td>\n",
       "      <td>309.000000</td>\n",
       "    </tr>\n",
       "    <tr>\n",
       "      <th>196</th>\n",
       "      <td>Tottenville</td>\n",
       "      <td>309.000000</td>\n",
       "    </tr>\n",
       "    <tr>\n",
       "      <th>158</th>\n",
       "      <td>Prince's Bay</td>\n",
       "      <td>300.000000</td>\n",
       "    </tr>\n",
       "  </tbody>\n",
       "</table>\n",
       "</div>"
      ],
      "text/plain": [
       "          neighbourhood       price\n",
       "82       Fort Wadsworth  800.000000\n",
       "220             Woodrow  700.000000\n",
       "175            Sea Gate  418.230769\n",
       "198             Tribeca  381.107143\n",
       "75    Flatiron District  367.415584\n",
       "22            Briarwood  366.162162\n",
       "73   Financial District  335.385057\n",
       "216         Willowbrook  309.000000\n",
       "196         Tottenville  309.000000\n",
       "158        Prince's Bay  300.000000"
      ]
     },
     "execution_count": 6,
     "metadata": {},
     "output_type": "execute_result"
    }
   ],
   "source": [
    "# Now, display the top 10 datframe you created as a table with columns\n",
    "# neighbourhood and price\n",
    "df_mean_top.columns = [\"neighbourhood\", \"price\"]\n",
    "df_mean_top"
   ]
  },
  {
   "cell_type": "markdown",
   "id": "0eecec35-4f94-4faf-9d98-f16211801ffd",
   "metadata": {},
   "source": [
    "####  Exercise 2: Create a bar chart and dataframe of top 10 Neigborhoods that have the LEAST expensive listsings on average. \n",
    "\n",
    "Do the same thing you just did, but get the 10 least expensive neighborhoods.  Sort them from lowest average price to highest.  Bew wure to provide a pivot table."
   ]
  },
  {
   "cell_type": "code",
   "execution_count": 7,
   "id": "b1712997-2ab1-4dee-b506-f448b4c0829e",
   "metadata": {
    "tags": []
   },
   "outputs": [
    {
     "data": {
      "text/html": [
       "<div>\n",
       "<style scoped>\n",
       "    .dataframe tbody tr th:only-of-type {\n",
       "        vertical-align: middle;\n",
       "    }\n",
       "\n",
       "    .dataframe tbody tr th {\n",
       "        vertical-align: top;\n",
       "    }\n",
       "\n",
       "    .dataframe thead th {\n",
       "        text-align: right;\n",
       "    }\n",
       "</style>\n",
       "<table border=\"1\" class=\"dataframe\">\n",
       "  <thead>\n",
       "    <tr style=\"text-align: right;\">\n",
       "      <th></th>\n",
       "      <th>neighborhood</th>\n",
       "      <th>avg_price</th>\n",
       "    </tr>\n",
       "  </thead>\n",
       "  <tbody>\n",
       "    <tr>\n",
       "      <th>181</th>\n",
       "      <td>South Beach</td>\n",
       "      <td>45.000000</td>\n",
       "    </tr>\n",
       "    <tr>\n",
       "      <th>27</th>\n",
       "      <td>Bull's Head</td>\n",
       "      <td>49.666667</td>\n",
       "    </tr>\n",
       "    <tr>\n",
       "      <th>157</th>\n",
       "      <td>Port Richmond</td>\n",
       "      <td>51.222222</td>\n",
       "    </tr>\n",
       "    <tr>\n",
       "      <th>180</th>\n",
       "      <td>Soundview</td>\n",
       "      <td>52.055556</td>\n",
       "    </tr>\n",
       "    <tr>\n",
       "      <th>141</th>\n",
       "      <td>New Brighton</td>\n",
       "      <td>52.250000</td>\n",
       "    </tr>\n",
       "    <tr>\n",
       "      <th>9</th>\n",
       "      <td>Bay Terrace, Staten Island</td>\n",
       "      <td>55.000000</td>\n",
       "    </tr>\n",
       "    <tr>\n",
       "      <th>103</th>\n",
       "      <td>Hunts Point</td>\n",
       "      <td>56.583333</td>\n",
       "    </tr>\n",
       "    <tr>\n",
       "      <th>201</th>\n",
       "      <td>University Heights</td>\n",
       "      <td>57.826087</td>\n",
       "    </tr>\n",
       "    <tr>\n",
       "      <th>89</th>\n",
       "      <td>Grant City</td>\n",
       "      <td>58.400000</td>\n",
       "    </tr>\n",
       "    <tr>\n",
       "      <th>150</th>\n",
       "      <td>Olinville</td>\n",
       "      <td>59.428571</td>\n",
       "    </tr>\n",
       "  </tbody>\n",
       "</table>\n",
       "</div>"
      ],
      "text/plain": [
       "                   neighborhood  avg_price\n",
       "181                 South Beach  45.000000\n",
       "27                  Bull's Head  49.666667\n",
       "157               Port Richmond  51.222222\n",
       "180                   Soundview  52.055556\n",
       "141                New Brighton  52.250000\n",
       "9    Bay Terrace, Staten Island  55.000000\n",
       "103                 Hunts Point  56.583333\n",
       "201          University Heights  57.826087\n",
       "89                   Grant City  58.400000\n",
       "150                   Olinville  59.428571"
      ]
     },
     "execution_count": 7,
     "metadata": {},
     "output_type": "execute_result"
    }
   ],
   "source": [
    "# Here we make the same chart using the bottom 10 Neighborhoods\n",
    "# by average price.  We sort ascending in this one.\n",
    "df_mean_bottom = df_mean.sort_values(by=\"avg_price\", ascending=True).head(10)\n",
    "df_mean_bottom"
   ]
  },
  {
   "cell_type": "code",
   "execution_count": 8,
   "id": "2f92f79f",
   "metadata": {},
   "outputs": [
    {
     "data": {
      "text/plain": [
       "<Axes: ylabel='neighborhood'>"
      ]
     },
     "execution_count": 8,
     "metadata": {},
     "output_type": "execute_result"
    },
    {
     "data": {
      "image/png": "[encoded data removed]",
      "text/plain": [
       "<Figure size 640x480 with 1 Axes>"
      ]
     },
     "metadata": {},
     "output_type": "display_data"
    }
   ],
   "source": [
    "df_mean_bottom.plot(kind=\"barh\", x=\"neighborhood\", y=\"avg_price\")"
   ]
  },
  {
   "cell_type": "code",
   "execution_count": 9,
   "id": "92a1d4e4-4bae-411b-aee8-3d41b89c6272",
   "metadata": {
    "tags": []
   },
   "outputs": [
    {
     "data": {
      "text/html": [
       "<div>\n",
       "<style scoped>\n",
       "    .dataframe tbody tr th:only-of-type {\n",
       "        vertical-align: middle;\n",
       "    }\n",
       "\n",
       "    .dataframe tbody tr th {\n",
       "        vertical-align: top;\n",
       "    }\n",
       "\n",
       "    .dataframe thead th {\n",
       "        text-align: right;\n",
       "    }\n",
       "</style>\n",
       "<table border=\"1\" class=\"dataframe\">\n",
       "  <thead>\n",
       "    <tr style=\"text-align: right;\">\n",
       "      <th></th>\n",
       "      <th>neighbourhood</th>\n",
       "      <th>price</th>\n",
       "    </tr>\n",
       "  </thead>\n",
       "  <tbody>\n",
       "    <tr>\n",
       "      <th>181</th>\n",
       "      <td>South Beach</td>\n",
       "      <td>45.000000</td>\n",
       "    </tr>\n",
       "    <tr>\n",
       "      <th>27</th>\n",
       "      <td>Bull's Head</td>\n",
       "      <td>49.666667</td>\n",
       "    </tr>\n",
       "    <tr>\n",
       "      <th>157</th>\n",
       "      <td>Port Richmond</td>\n",
       "      <td>51.222222</td>\n",
       "    </tr>\n",
       "    <tr>\n",
       "      <th>180</th>\n",
       "      <td>Soundview</td>\n",
       "      <td>52.055556</td>\n",
       "    </tr>\n",
       "    <tr>\n",
       "      <th>141</th>\n",
       "      <td>New Brighton</td>\n",
       "      <td>52.250000</td>\n",
       "    </tr>\n",
       "    <tr>\n",
       "      <th>9</th>\n",
       "      <td>Bay Terrace, Staten Island</td>\n",
       "      <td>55.000000</td>\n",
       "    </tr>\n",
       "    <tr>\n",
       "      <th>103</th>\n",
       "      <td>Hunts Point</td>\n",
       "      <td>56.583333</td>\n",
       "    </tr>\n",
       "    <tr>\n",
       "      <th>201</th>\n",
       "      <td>University Heights</td>\n",
       "      <td>57.826087</td>\n",
       "    </tr>\n",
       "    <tr>\n",
       "      <th>89</th>\n",
       "      <td>Grant City</td>\n",
       "      <td>58.400000</td>\n",
       "    </tr>\n",
       "    <tr>\n",
       "      <th>150</th>\n",
       "      <td>Olinville</td>\n",
       "      <td>59.428571</td>\n",
       "    </tr>\n",
       "  </tbody>\n",
       "</table>\n",
       "</div>"
      ],
      "text/plain": [
       "                  neighbourhood      price\n",
       "181                 South Beach  45.000000\n",
       "27                  Bull's Head  49.666667\n",
       "157               Port Richmond  51.222222\n",
       "180                   Soundview  52.055556\n",
       "141                New Brighton  52.250000\n",
       "9    Bay Terrace, Staten Island  55.000000\n",
       "103                 Hunts Point  56.583333\n",
       "201          University Heights  57.826087\n",
       "89                   Grant City  58.400000\n",
       "150                   Olinville  59.428571"
      ]
     },
     "execution_count": 9,
     "metadata": {},
     "output_type": "execute_result"
    }
   ],
   "source": [
    "# we also would like to have the corresponding pivot table of the lowest 10\n",
    "df_mean_bottom.columns = [\"neighbourhood\", \"price\"]\n",
    "df_mean_bottom"
   ]
  },
  {
   "cell_type": "markdown",
   "id": "87ac7c97-b384-42d2-abdb-a26e98b12179",
   "metadata": {},
   "source": [
    "#  Now make all four widgets (the two charts and the two dataframes) in a Tableau dashboard!"
   ]
  },
  {
   "cell_type": "markdown",
   "id": "3b9ecbbc",
   "metadata": {},
   "source": [
    "Link to the Tableau Viz: https://public.tableau.com/views/CUNYTechPrepWeek3Assignment/NeighborhoodPrices?:language=en-US&:sid=&:redirect=auth&:display_count=n&:origin=viz_share_link"
   ]
  }
 ],
 "metadata": {
  "kernelspec": {
   "display_name": "Python 3 (ipykernel)",
   "language": "python",
   "name": "python3"
  },
  "language_info": {
   "codemirror_mode": {
    "name": "ipython",
    "version": 3
   },
   "file_extension": ".py",
   "mimetype": "text/x-python",
   "name": "python",
   "nbconvert_exporter": "python",
   "pygments_lexer": "ipython3",
   "version": "3.12.4"
  }
 },
 "nbformat": 4,
 "nbformat_minor": 5
}
